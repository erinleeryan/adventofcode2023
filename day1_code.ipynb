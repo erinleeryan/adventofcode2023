{
 "cells": [
  {
   "cell_type": "code",
   "execution_count": 1,
   "metadata": {},
   "outputs": [
    {
     "name": "stdout",
     "output_type": "stream",
     "text": [
      "54990\n"
     ]
    }
   ],
   "source": [
    "f = open('data/day1_input.txt','r')\n",
    "\n",
    "input = f.readlines()\n",
    "\n",
    "digit_array = []\n",
    "\n",
    "for row in input:\n",
    "    entries = row.strip()\n",
    "\n",
    "    num_values = []\n",
    "    for char in entries:\n",
    "        if char.isdigit() == True:\n",
    "            num_values.append(char)\n",
    "\n",
    "    two_values = num_values[0]+num_values[-1]\n",
    "    digit_array.append(int(two_values))\n",
    "\n",
    "print (sum(digit_array))"
   ]
  },
  {
   "cell_type": "code",
   "execution_count": 2,
   "metadata": {},
   "outputs": [
    {
     "name": "stdout",
     "output_type": "stream",
     "text": [
      "54473\n"
     ]
    }
   ],
   "source": [
    "#part 2\n",
    "\n",
    "\n",
    "f = open('data/day1_input.txt','r')\n",
    "\n",
    "input = f.readlines()\n",
    "\n",
    "digit_array = []\n",
    "\n",
    "digit_names = {'one':1, 'two':2, 'three':3, 'four':4, 'five':5, 'six': 6, 'seven':7, 'eight':8, 'nine':9}\n",
    "\n",
    "\n",
    "for row in input:\n",
    "    entries = row.strip()\n",
    "\n",
    "    num_dict = {}\n",
    "\n",
    "    for substring in digit_names.keys():\n",
    "        word_index = [i for i in range(len(entries)) if entries.startswith(substring, i)]\n",
    "        for word in word_index:\n",
    "            num_dict[word] = digit_names[substring] \n",
    "    index = 0\n",
    "    for char in entries: \n",
    "        if char.isdigit() == True:\n",
    "            num_dict[index] = int(char)\n",
    "        index += 1\n",
    "    \n",
    "\n",
    "    keys = list(num_dict.keys()) # make list of keys which are the index of the numerical positions\n",
    "    keys.sort()\n",
    "    sorted_num_array = [num_dict[i] for i in keys]\n",
    "    two_values = str(sorted_num_array[0])+str(sorted_num_array[-1])\n",
    "    digit_array.append(int(two_values))\n",
    "\n",
    "print (sum(digit_array))"
   ]
  },
  {
   "cell_type": "code",
   "execution_count": null,
   "metadata": {},
   "outputs": [],
   "source": []
  }
 ],
 "metadata": {
  "kernelspec": {
   "display_name": "base",
   "language": "python",
   "name": "python3"
  },
  "language_info": {
   "codemirror_mode": {
    "name": "ipython",
    "version": 3
   },
   "file_extension": ".py",
   "mimetype": "text/x-python",
   "name": "python",
   "nbconvert_exporter": "python",
   "pygments_lexer": "ipython3",
   "version": "3.9.7"
  },
  "orig_nbformat": 4,
  "vscode": {
   "interpreter": {
    "hash": "17711f4e09b6e56dad2e47abfa495767e0da3532fec847e9080c99239c4a486d"
   }
  }
 },
 "nbformat": 4,
 "nbformat_minor": 2
}
