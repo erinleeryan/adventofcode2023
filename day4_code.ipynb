{
 "cells": [
  {
   "cell_type": "code",
   "execution_count": 9,
   "metadata": {},
   "outputs": [
    {
     "name": "stdout",
     "output_type": "stream",
     "text": [
      "27845\n"
     ]
    }
   ],
   "source": [
    "f = open('data/day4_input.txt','r')\n",
    "\n",
    "input = f.readlines()\n",
    "\n",
    "points = []\n",
    "for row in input:\n",
    "    entries = row.strip()\n",
    "    label,data = entries.split(': ')\n",
    "    winning,mine = data.split(' | ')\n",
    "    winning = set(winning.strip().split())\n",
    "    mine = set(mine.strip().split())\n",
    "    matches = winning.intersection(mine)\n",
    "    score = 0\n",
    "    if len(matches) == 1:\n",
    "        score = 1\n",
    "    elif len(matches) >= 2:\n",
    "        score =2**(len(matches) -1)\n",
    "    points.append(score)\n",
    "\n",
    "print (sum(points))  "
   ]
  },
  {
   "cell_type": "code",
   "execution_count": 15,
   "metadata": {},
   "outputs": [
    {
     "name": "stdout",
     "output_type": "stream",
     "text": [
      "9496801.0\n"
     ]
    }
   ],
   "source": [
    "import numpy as np\n",
    "\n",
    "f = open('data/day4_input.txt','r')\n",
    "\n",
    "input = f.readlines()\n",
    "\n",
    "cards = np.ones(len(input))\n",
    "\n",
    "i= 0\n",
    "for row in input:\n",
    "    entries = row.strip()\n",
    "    label,data = entries.split(': ')\n",
    "    winning,mine = data.split(' | ')\n",
    "    winning = set(winning.strip().split())\n",
    "    mine = set(mine.strip().split())\n",
    "    matches = winning.intersection(mine)\n",
    "    new_cards = cards[i]\n",
    "    if len(matches) != 0:\n",
    "        cards[i+1: i+len(matches)+1] += new_cards\n",
    "    i +=1 \n",
    "print (sum(cards))"
   ]
  },
  {
   "cell_type": "code",
   "execution_count": null,
   "metadata": {},
   "outputs": [],
   "source": []
  }
 ],
 "metadata": {
  "kernelspec": {
   "display_name": "base",
   "language": "python",
   "name": "python3"
  },
  "language_info": {
   "codemirror_mode": {
    "name": "ipython",
    "version": 3
   },
   "file_extension": ".py",
   "mimetype": "text/x-python",
   "name": "python",
   "nbconvert_exporter": "python",
   "pygments_lexer": "ipython3",
   "version": "3.9.7"
  },
  "orig_nbformat": 4,
  "vscode": {
   "interpreter": {
    "hash": "17711f4e09b6e56dad2e47abfa495767e0da3532fec847e9080c99239c4a486d"
   }
  }
 },
 "nbformat": 4,
 "nbformat_minor": 2
}
